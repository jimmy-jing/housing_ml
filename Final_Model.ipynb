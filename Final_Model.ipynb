{
 "cells": [
  {
   "cell_type": "markdown",
   "metadata": {},
   "source": [
    "# Setup"
   ]
  },
  {
   "cell_type": "code",
   "execution_count": 1,
   "metadata": {},
   "outputs": [],
   "source": [
    "import numpy as np\n",
    "import pandas as pd\n",
    "import matplotlib.pyplot as plt\n",
    "import seaborn as sns\n",
    "%matplotlib inline\n",
    "\n",
    "from math import exp\n",
    "\n",
    "from sklearn.linear_model import Ridge\n",
    "from sklearn.preprocessing import MinMaxScaler\n",
    "from sklearn.metrics import mean_squared_error\n",
    "from sklearn.model_selection import train_test_split\n",
    "\n",
    "\n",
    "pd.set_option('display.max_rows', 500)\n",
    "pd.set_option('display.max_columns', 300)\n",
    "pd.set_option('display.width', 1000)\n",
    "pd.set_option('display.float_format', lambda x: '%.5f' % x)"
   ]
  },
  {
   "cell_type": "code",
   "execution_count": 2,
   "metadata": {},
   "outputs": [],
   "source": [
    "from jj_imputer import HousingImpute\n",
    "from jj_dummification import *"
   ]
  },
  {
   "cell_type": "markdown",
   "metadata": {},
   "source": [
    "# Imputation"
   ]
  },
  {
   "cell_type": "code",
   "execution_count": 3,
   "metadata": {
    "scrolled": true
   },
   "outputs": [
    {
     "name": "stdout",
     "output_type": "stream",
     "text": [
      "LotFrontage 259\n",
      "Alley 1369\n",
      "MasVnrType 8\n",
      "MasVnrArea 8\n",
      "BsmtQual 37\n",
      "BsmtCond 37\n",
      "BsmtExposure 38\n",
      "BsmtFinType1 37\n",
      "BsmtFinType2 38\n",
      "Electrical 1\n",
      "FireplaceQu 690\n",
      "GarageType 81\n",
      "GarageYrBlt 81\n",
      "GarageFinish 81\n",
      "GarageQual 81\n",
      "GarageCond 81\n",
      "PoolQC 1453\n",
      "Fence 1179\n",
      "MiscFeature 1406\n",
      "MasVnrArea imputer embedded in another imputer\n",
      "BsmtCond imputer embedded in another imputer\n",
      "BsmtExposure imputer embedded in another imputer\n",
      "BsmtFinType1 imputer embedded in another imputer\n",
      "BsmtFinType2 imputer embedded in another imputer\n",
      "GarageYrBlt imputer embedded in another imputer\n",
      "GarageFinish imputer embedded in another imputer\n",
      "GarageQual imputer embedded in another imputer\n",
      "GarageCond imputer embedded in another imputer\n",
      "BsmtExposure 1\n",
      "--------------------\n",
      "Id\n",
      "949    NaN\n",
      "Name: BsmtExposure, dtype: object\n",
      "--------------------\n",
      "BsmtFinType2 1\n",
      "--------------------\n",
      "Id\n",
      "333    NaN\n",
      "Name: BsmtFinType2, dtype: object\n",
      "--------------------\n"
     ]
    }
   ],
   "source": [
    "housing = HousingImpute('train.csv')\n",
    "housing.run_imputers()\n",
    "housing.left_to_impute()"
   ]
  },
  {
   "cell_type": "markdown",
   "metadata": {},
   "source": [
    "indx 949 has NaN BsmtExposure but a basement condition/qual with 0 finished area. Will impute as 'No'. <br>\n",
    "index 333 is imputed as Rec via median value since the missing competely at random BsmFinType2 value ."
   ]
  },
  {
   "cell_type": "code",
   "execution_count": 4,
   "metadata": {},
   "outputs": [],
   "source": [
    "housing.df.loc[949, 'BsmtExposure'] = 'No'\n",
    "housing.df.loc[333, 'BsmtFinType2'] = 'Rec'"
   ]
  },
  {
   "cell_type": "code",
   "execution_count": 5,
   "metadata": {},
   "outputs": [],
   "source": [
    "#final check for missing values\n",
    "housing.left_to_impute()"
   ]
  },
  {
   "cell_type": "code",
   "execution_count": 6,
   "metadata": {},
   "outputs": [],
   "source": [
    "housing.df.drop('Utilities', axis=1, inplace=True)\n",
    "#drop utilities since 1459 out of 1600 share same value\n",
    "housing.df.drop('TotalBsmtSF', axis=1, inplace=True)\n",
    "#drop TotalBsmtSF for multicollinearity since it is the sum of the 3 other BsmtSF columns\n",
    "\n",
    "housing.df.loc[:,'Exterior2nd'].replace('CmentBd','CemntBd', inplace=True)\n",
    "#correcting for spelling errors to make the types of values in Exterior1st and Exterior2nd the same"
   ]
  },
  {
   "cell_type": "markdown",
   "metadata": {},
   "source": [
    "# Dummification"
   ]
  },
  {
   "cell_type": "code",
   "execution_count": 7,
   "metadata": {},
   "outputs": [
    {
     "data": {
      "text/plain": [
       "(1460, 331)"
      ]
     },
     "execution_count": 7,
     "metadata": {},
     "output_type": "execute_result"
    }
   ],
   "source": [
    "new_housing = HousingCategorical()\n",
    "new_housing.df = housing.df\n",
    "new_housing.ohe_features = new_housing.ohe_features + new_housing.label_encode_features\n",
    "\n",
    "# new_housing.list_checker()\n",
    "new_housing.one_hot_encode()\n",
    "new_housing.df.shape"
   ]
  },
  {
   "cell_type": "markdown",
   "metadata": {},
   "source": [
    "## Outliers"
   ]
  },
  {
   "cell_type": "code",
   "execution_count": 8,
   "metadata": {},
   "outputs": [],
   "source": [
    "#jimmy's list of outliers by eye test. manually placing here for easy reference in future\n",
    "final_outlier_id = {935: 'LotFrontage',\n",
    "                     1299: ['LotFrontage', 'BsmtFinSF1', '1stFlrSF', 'GrLivArea', 'GarageArea'],\n",
    "                     250: 'LotArea',\n",
    "                     314: 'LotArea',\n",
    "                     336: 'LotArea',\n",
    "                     707: 'LotArea',\n",
    "                     298: 'MasVnrArea',\n",
    "                     1170: 'MasVnrArea',\n",
    "                     186: 'LowQualFinSF',\n",
    "                     524: 'GrLivArea',\n",
    "                     582: 'GarageArea',\n",
    "                     1062: 'GarageArea',\n",
    "                     1191: 'GarageArea',\n",
    "                     54: 'WoodDeckSF',\n",
    "                     496: 'OpenPorchSF',\n",
    "                     1183: 'PoolArea'}\n",
    "\n",
    "final_df = new_housing.df.drop(final_outlier_id, axis=0)"
   ]
  },
  {
   "cell_type": "markdown",
   "metadata": {},
   "source": [
    "## Scaling"
   ]
  },
  {
   "cell_type": "code",
   "execution_count": 9,
   "metadata": {},
   "outputs": [],
   "source": [
    "min_max = MinMaxScaler()\n",
    "final_df.iloc[:,:-1] = min_max.fit_transform(final_df.iloc[:,:-1])"
   ]
  },
  {
   "cell_type": "markdown",
   "metadata": {},
   "source": [
    "# Feature Selection\n",
    "### Via Lasso"
   ]
  },
  {
   "cell_type": "code",
   "execution_count": 10,
   "metadata": {},
   "outputs": [],
   "source": [
    "columns_to_drop = ['MasVnrArea','2ndFlrSF', 'LowQualFinSF', 'BsmtHalfBath', 'BedroomAbvGr', 'TotRmsAbvGrd', 'Fireplaces',\n",
    "                   'PoolArea', 'MiscVal', 'MSSubClass_40', 'MSSubClass_45', 'MSSubClass_60', 'MSSubClass_75', 'MSSubClass_85',\n",
    "                   'MSSubClass_180', 'Street_Pave', 'Alley_Pave', 'LotShape_IR3', 'LotShape_Reg', 'LandContour_HLS', \n",
    "                   'LandContour_Lvl', 'LotConfig_FR3', 'Neighborhood_Blueste', 'Neighborhood_BrDale', 'Neighborhood_NWAmes',\n",
    "                   'Neighborhood_SWISU', 'Neighborhood_Sawyer', 'Neighborhood_Timber', 'Condition1_PosA', 'Condition1_RRAe',\n",
    "                   'Condition1_RRNe', 'Condition1_RRNn', 'Condition2_Feedr', 'Condition2_PosA', 'Condition2_PosN', 'Condition2_RRAe',\n",
    "                   'Condition2_RRAn', 'Condition2_RRNn', 'BldgType_2fmCon', 'HouseStyle_1.5Unf', 'HouseStyle_1Story',\n",
    "                   'HouseStyle_SFoyer', 'HouseStyle_SLvl', 'RoofStyle_Gable', 'RoofStyle_Shed', 'RoofMatl_CompShg', 'RoofMatl_Membran',\n",
    "                   'RoofMatl_Metal', 'RoofMatl_Roll', 'RoofMatl_WdShake', 'RoofMatl_WdShngl', 'Exterior1st_AsphShn', 'Exterior1st_CBlock',\n",
    "                   'Exterior1st_CemntBd', 'Exterior1st_HdBoard', 'Exterior1st_ImStucc', 'Exterior1st_Plywood', 'Exterior1st_Stone',\n",
    "                   'Exterior1st_VinylSd', 'Exterior2nd_AsphShn', 'Exterior2nd_Brk Cmn', 'Exterior2nd_CBlock', 'Exterior2nd_ImStucc',\n",
    "                   'Exterior2nd_MetalSd', 'Exterior2nd_Other', 'Exterior2nd_Plywood', 'Exterior2nd_Stone', 'Foundation_Slab', 'Foundation_Stone',\n",
    "                   'BsmtFinType1_BLQ', 'BsmtFinType1_Rec', 'BsmtFinType2_LwQ', 'BsmtFinType2_Unf', 'Heating_GasA', 'Heating_OthW',\n",
    "                   'Heating_Wall', 'Electrical_FuseF', 'Electrical_FuseP', 'Electrical_Mix', 'Functional_Min2', 'Functional_Sev',\n",
    "                   'GarageType_Basment', 'GarageType_No_G', 'PavedDrive_P', 'Fence_GdWo', 'Fence_MnPrv', 'Fence_MnWw', 'MiscFeature_No_MF',\n",
    "                   'MiscFeature_Othr', 'MiscFeature_TenC', 'SaleType_CWD', 'SaleType_Con', 'SaleType_ConLI', 'SaleType_ConLw', 'SaleType_Oth',\n",
    "                   'SaleCondition_AdjLand', 'SaleCondition_Partial', 'MoSold_3', 'MoSold_11', 'ExterQual_Fa', 'ExterCond_Gd', 'ExterCond_Po',\n",
    "                   'BsmtQual_Fa', 'BsmtCond_Po', 'BsmtExposure_No', 'HeatingQC_Po', 'FireplaceQu_TA', 'GarageFinish_No_G', 'GarageQual_Gd',\n",
    "                   'GarageQual_No_G', 'GarageQual_Po', 'GarageQual_TA', 'GarageCond_Gd', 'GarageCond_No_G', 'GarageCond_Po','PoolQC_Fa','PoolQC_Gd']"
   ]
  },
  {
   "cell_type": "code",
   "execution_count": 11,
   "metadata": {},
   "outputs": [],
   "source": [
    "final_df.drop(columns=columns_to_drop, inplace=True)"
   ]
  },
  {
   "cell_type": "code",
   "execution_count": 12,
   "metadata": {},
   "outputs": [
    {
     "data": {
      "text/plain": [
       "(1444, 196)"
      ]
     },
     "execution_count": 12,
     "metadata": {},
     "output_type": "execute_result"
    }
   ],
   "source": [
    "final_df.shape"
   ]
  },
  {
   "cell_type": "markdown",
   "metadata": {},
   "source": [
    "# Optimized Hyperparameter"
   ]
  },
  {
   "cell_type": "code",
   "execution_count": 13,
   "metadata": {},
   "outputs": [
    {
     "data": {
      "text/plain": [
       "Ridge(alpha=0.5, copy_X=True, fit_intercept=True, max_iter=10000,\n",
       "      normalize=False, random_state=88, solver='auto', tol=0.001)"
      ]
     },
     "execution_count": 13,
     "metadata": {},
     "output_type": "execute_result"
    },
    {
     "name": "stdout",
     "output_type": "stream",
     "text": [
      "RMSE: 19088.95895126684\n"
     ]
    }
   ],
   "source": [
    "random_state=88\n",
    "X_train, X_test, y_train, y_test = train_test_split(final_df.iloc[:,:-1],final_df.iloc[:,-1], \n",
    "                                                    test_size=0.25, random_state=random_state)\n",
    "\n",
    "ridge = Ridge(alpha=0.5, random_state=random_state, max_iter=10000)\n",
    "ridge.fit(X_train, np.log(y_train))\n",
    "y_pred = list(map(lambda x: exp(x), ridge.predict(X_test)))\n",
    "print('RMSE: {}'.format(mean_squared_error(y_test,y_pred)**0.5))"
   ]
  },
  {
   "cell_type": "markdown",
   "metadata": {},
   "source": [
    "# True Test Set\n",
    "### Processing"
   ]
  },
  {
   "cell_type": "code",
   "execution_count": 14,
   "metadata": {},
   "outputs": [
    {
     "data": {
      "text/plain": [
       "OneHotEncoder(categorical_features=None, categories=None, drop='first',\n",
       "              dtype=<class 'numpy.float64'>, handle_unknown='error',\n",
       "              n_values=None, sparse=False)"
      ]
     },
     "execution_count": 14,
     "metadata": {},
     "output_type": "execute_result"
    },
    {
     "data": {
      "text/plain": [
       "(1459, 267)"
      ]
     },
     "execution_count": 14,
     "metadata": {},
     "output_type": "execute_result"
    },
    {
     "data": {
      "text/plain": [
       "(1459, 195)"
      ]
     },
     "execution_count": 14,
     "metadata": {},
     "output_type": "execute_result"
    }
   ],
   "source": [
    "test_housing = HousingImpute('imputed_test.csv')\n",
    "test_dummies = HousingCategorical()\n",
    "test_dummies.df = test_housing.df\n",
    "# test_dummies.df.shape\n",
    "test_dummies.mode = 'Test'\n",
    "test_dummies.df.drop('Utilities', axis=1, inplace=True)\n",
    "test_dummies.df.drop('TotalBsmtSF', axis=1, inplace=True)\n",
    "test_dummies.df.loc[:,'Exterior2nd'].replace('CmentBd','CemntBd', inplace=True)\n",
    "test_dummies.ohe_features.remove('GarageQual')\n",
    "\n",
    "test_dummies.one_hot_encode()\n",
    "# test_dummies.df.shape\n",
    "\n",
    "#OHE for featuer GarageQual keeps dropping Fa as first element but final model needs feature GarageQual_Fa\n",
    "from sklearn.preprocessing import OneHotEncoder\n",
    "garagequal_encoder = OneHotEncoder(drop='first', sparse=False)\n",
    "garagequal_encoder.fit(np.array(test_dummies.df['GarageQual']).reshape(-1,1))\n",
    "garagequal_encoder.categories_ = [np.array(['TA','No_G','Po','Gd','Fa'], dtype=object)]\n",
    "\n",
    "garage_array = garagequal_encoder.transform(np.array(test_dummies.df['GarageQual']).reshape(-1,1))\n",
    "garage_encoded = pd.DataFrame(garage_array, index=list(range(1461,2920)), columns=['GarageQual_No_G','GarageQual_Po','GarageQual_Gd','GarageQual_Fa'])\n",
    "test_dummies.df = pd.merge(test_dummies.df.drop(columns='GarageQual'),garage_encoded, left_index=True, right_index=True)\n",
    "\n",
    "test_dummies.df.shape\n",
    "test_dummies.df['HouseStyle_2.5Fin'] = 0\n",
    "final_features = list(final_df.columns)\n",
    "final_features.remove('SalePrice') #no target variable in test set\n",
    "\n",
    "final_test_df = test_dummies.df[final_features]\n",
    "final_test_input = min_max.fit_transform(final_test_df)\n",
    "final_test_df.shape"
   ]
  },
  {
   "cell_type": "markdown",
   "metadata": {},
   "source": [
    "# Final Model"
   ]
  },
  {
   "cell_type": "code",
   "execution_count": 15,
   "metadata": {},
   "outputs": [
    {
     "data": {
      "text/plain": [
       "Ridge(alpha=0.5, copy_X=True, fit_intercept=True, max_iter=10000,\n",
       "      normalize=False, random_state=88, solver='auto', tol=0.001)"
      ]
     },
     "execution_count": 15,
     "metadata": {},
     "output_type": "execute_result"
    }
   ],
   "source": [
    "final_ridge = Ridge(alpha=0.5, random_state=88, max_iter=10000)\n",
    "final_ridge.fit(final_df.iloc[:,:-1], np.log(final_df.iloc[:,-1]))\n",
    "final_pred = list(map(lambda x: exp(x), final_ridge.predict(final_test_input)))\n"
   ]
  },
  {
   "cell_type": "markdown",
   "metadata": {},
   "source": [
    "## Predictions"
   ]
  },
  {
   "cell_type": "code",
   "execution_count": 16,
   "metadata": {
    "scrolled": true
   },
   "outputs": [],
   "source": [
    "answer_df = pd.DataFrame(final_pred, index=final_test_df.index, columns=['SalePrice'])"
   ]
  },
  {
   "cell_type": "code",
   "execution_count": 17,
   "metadata": {},
   "outputs": [],
   "source": [
    "answer_df.to_csv('SalePrice.csv')"
   ]
  },
  {
   "cell_type": "code",
   "execution_count": null,
   "metadata": {},
   "outputs": [],
   "source": []
  }
 ],
 "metadata": {
  "kernelspec": {
   "display_name": "Python 3",
   "language": "python",
   "name": "python3"
  },
  "language_info": {
   "codemirror_mode": {
    "name": "ipython",
    "version": 3
   },
   "file_extension": ".py",
   "mimetype": "text/x-python",
   "name": "python",
   "nbconvert_exporter": "python",
   "pygments_lexer": "ipython3",
   "version": "3.7.3"
  }
 },
 "nbformat": 4,
 "nbformat_minor": 2
}
